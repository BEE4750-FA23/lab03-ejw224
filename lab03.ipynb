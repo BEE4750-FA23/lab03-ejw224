{
  "cells": [
    {
      "cell_type": "markdown",
      "id": "a4dbeeed-1482-4055-871b-4d7a2c2a511e",
      "metadata": {},
      "source": [
        "# BEE 4750 Lab 3: Linear Programming with JuMP\n",
        "\n",
        "**Name**: Elliot Walsh\n",
        "\n",
        "**ID**: ejw224, 5101573\n",
        "\n",
        "> **Due Date**\n",
        ">\n",
        "> Friday, 10/13/23, 9:00pm\n",
        "\n",
        "## Setup\n",
        "\n",
        "The following code should go at the top of most Julia scripts; it will\n",
        "load the local package environment and install any needed packages. You\n",
        "will see this often and shouldn’t need to touch it."
      ]
    },
    {
      "cell_type": "code",
      "execution_count": 1,
      "id": "e4a7ead8",
      "metadata": {},
      "outputs": [
        {
          "name": "stderr",
          "output_type": "stream",
          "text": [
            "\u001b[32m\u001b[1m  Activating\u001b[22m\u001b[39m project at `~/Desktop/fall 2023/cee 4750/lab 3/lab03-ejw224`\n"
          ]
        }
      ],
      "source": [
        "import Pkg\n",
        "Pkg.activate(\".\")\n",
        "Pkg.instantiate()"
      ]
    },
    {
      "cell_type": "code",
      "execution_count": 2,
      "id": "bcb91547",
      "metadata": {},
      "outputs": [],
      "source": [
        "using JuMP # optimization modeling syntax\n",
        "using HiGHS # optimization solver\n",
        "using Plots # plotting"
      ]
    },
    {
      "cell_type": "markdown",
      "id": "e7c75237-e4a0-44dd-accc-3ba4b3a0b33e",
      "metadata": {},
      "source": [
        "## Overview\n",
        "\n",
        "In this lab, you will write and solve a resource allocation example\n",
        "using `JuMP.jl`. `JuMP.jl` provides an intuitive syntax for writing,\n",
        "solving, and querying optimization problems.\n",
        "\n",
        "For an example of using `JuMP.jl` to solve linear programs, see [the\n",
        "relevant tutorial on the class\n",
        "website](https://viveks.me/environmental-systems-analysis/tutorials/julia-jump.html).\n",
        "\n",
        "Free free to delete some of the illustrative cells and code blocks in\n",
        "your notebook as you go through and solve the lab problems…this might\n",
        "help reduce some potential confusion while grading about what your\n",
        "answer is."
      ]
    },
    {
      "cell_type": "markdown",
      "id": "b3357076-5bea-4fbb-a560-286b35fd52af",
      "metadata": {},
      "source": [
        "## Introduction\n",
        "\n",
        "Your task is to decide how much lumber to produce to maximize profit\n",
        "from wood sales. You can purchase wood from a managed forest, which\n",
        "consists of spruce (320,000 bf) and fir (720,000 bf). Spruce costs\n",
        "\\$0.12 per bf to purchase and fir costs \\$0.08 per bf.\n",
        "\n",
        "At the lumber mill, wood can be turned into plywood of various grades\n",
        "(see <a href=\"#tbl-inputs\" class=\"quarto-xref\">Table 1</a> for how much\n",
        "wood of each type is required for and the revenue from each grade). Any\n",
        "excess wood is sent to be recycled into particle board. This resource\n",
        "allocation problem is diagrammed in\n",
        "<a href=\"#fig-schematic\" class=\"quarto-xref\">Figure 1</a>.\n",
        "\n",
        "| Plywood Grade | Inputs (bf/bf plywood) | Revenue (\\$/1000 bf) |\n",
        "|:-------------:|:----------------------:|:--------------------:|\n",
        "|       1       |   0.5 (S) + 1.5 (F)    |         400          |\n",
        "|       2       |   1.0 (S) + 2.0 (F)    |         520          |\n",
        "|       3       |   1.5 (S) + 2.0 (F)    |         700          |\n",
        "\n",
        "Table 1: Wood inputs and revenue by plywood grade. S refers to spruce\n",
        "inputs, F fir inputs."
      ]
    },
    {
      "cell_type": "markdown",
      "id": "e64f4869-4c05-4097-9118-15c5583c58a3",
      "metadata": {},
      "source": [
        "\n",
        "## Problems (10 points)"
      ]
    },
    {
      "cell_type": "markdown",
      "id": "4909da23-bc65-4291-ac3a-b991ffd66163",
      "metadata": {},
      "source": [
        "### Problem 1: Problem Formulation (5 points)\n",
        "\n",
        "In this problem, you will go through the steps of formulating a linear\n",
        "program for this problem."
      ]
    },
    {
      "cell_type": "markdown",
      "id": "2071aef6-e8a9-4285-a5b9-59f65a25b5ac",
      "metadata": {},
      "source": [
        "#### Problem 1.1 (1 point)\n",
        "\n",
        "What are your decision variables? Clearly define your notation,\n",
        "including what variables you are using, what they mean, and what their\n",
        "units are."
      ]
    },
    {
      "cell_type": "markdown",
      "id": "7feb254b",
      "metadata": {},
      "source": [
        "The decision variables are:\n",
        "\n",
        "**p1**: amount of grade 1 plywood produced (1000s of bf)\n",
        "\n",
        "**p2**: amount of grade 2 plywood produced (1000s of bf)\n",
        "\n",
        "**p3**: amount of grade 3 plywood produced (1000s of bf)"
      ]
    },
    {
      "cell_type": "markdown",
      "id": "d314882c-8e58-4177-a740-676248d7106f",
      "metadata": {},
      "source": [
        "#### Problem 1.2 (1 point)\n",
        "\n",
        "Derive your objective function. Support your function with\n",
        "justifications and/or equations as necessary. You will not receive\n",
        "credit just for the function alone."
      ]
    },
    {
      "cell_type": "markdown",
      "id": "1986f0aa",
      "metadata": {},
      "source": [
        "Goal is to maximize profit (as revenues-costs). Revenue is the value of the plywood produced, and cost is the cost to buy the unprocessed wood. s and f are the prices of spruce and fir in $/(1000 bf)\n",
        "\n",
        "Revenue: sum of values in table: $$R=400p_1+520p_2+700p_3 $$\n",
        "\n",
        "Cost: sum of materials given in table at given prices: $$C=(0.5s+1.5f)p_1+(s+2f)p_2+(1.5s+2f)p_3$$\n",
        "\n",
        "Profit: revenue-cost: $$P=R-C=(400p_1+520p_2+700p_3)-((0.5s+1.5f)p_1+(s+2f)p_2+(1.5s+2f)p_3)$$"
      ]
    },
    {
      "cell_type": "markdown",
      "id": "9bd0d34a-7aed-44b9-a665-80fcc1deb56b",
      "metadata": {},
      "source": [
        "#### Problem 1.3 (2 point)\n",
        "\n",
        "Derive any needed constraints. Support your function with justifications\n",
        "and/or equations as necessary. You will not receive credit just for the\n",
        "final constraints alone."
      ]
    },
    {
      "cell_type": "markdown",
      "id": "b33a6c7c",
      "metadata": {},
      "source": [
        "Constraints are based on the availability of spruce and fir, as given in the introduction, and the fact that s, f, p1, p2, and p3 must all be nonnegative: \n",
        "$$0 \\leq 0.5p_1+p_2+1.5p_3\t\\leq 320 $$\n",
        "$$0 \\leq 1.5p_1+2p_2+2p_3 \\leq 720$$\n",
        "$$0 \\leq p_1$$\n",
        "$$0 \\leq p_2$$\n",
        "$$0 \\leq p_3$$\n"
      ]
    },
    {
      "cell_type": "markdown",
      "id": "b1a9dab5-6afb-4bf6-ad34-3c8979b4d07a",
      "metadata": {},
      "source": [
        "#### Problem 1.4 (1 point)\n",
        "\n",
        "Put this optimization problem in mathematical programming form. For an\n",
        "example of the syntax for this, see lines 82–91\n",
        "[here](https://github.com/vsrikrish/environmental-systems-analysis/blob/Fall23/tutorials/julia-jump.qmd)."
      ]
    },
    {
      "cell_type": "markdown",
      "id": "9e9fc8c9",
      "metadata": {},
      "source": [
        "\\begin{equation}\n",
        "\\begin{aligned}\n",
        "& \\max_{p_1, p_2, p_3} & ((400p_1+520p_2+700p_3))-((0.5s+1.5f)p_1+(s+2f)p_2+(1.5s+2f)p_3)\\\\\n",
        "&\\text{subject to} & \\\\\n",
        "& & 0 \\leq 0.5p_1+p_2+1.5p_3\t\\leq 320\\\\\n",
        "& & 0 \\leq 1.5p_1+2p_2+2p_3 \\leq 720\\\\\n",
        "& & 0 \\leq p_1\\\\\n",
        "& & 0 \\leq p_2\\\\\n",
        "& & 0 \\leq p_3 \n",
        "\\end{aligned}\n",
        "\\end{equation}"
      ]
    },
    {
      "cell_type": "markdown",
      "id": "5fb9c116-3b52-46da-87a2-160f3c98676e",
      "metadata": {},
      "source": [
        "### Problem 2: Find the Solution (5 points)"
      ]
    },
    {
      "cell_type": "markdown",
      "id": "c7336df3-bd09-4437-89ad-b9c493528017",
      "metadata": {},
      "source": [
        "#### Problem 2.1 (2 points)\n",
        "\n",
        "Code your linear program using `JuMP`. Feel free to consult [the\n",
        "website’s `JuMP`\n",
        "tutorial](https://viveks.me/environmental-systems-analysis/tutorials/julia-jump.html)\n",
        "for syntax help. The keys:"
      ]
    },
    {
      "cell_type": "code",
      "execution_count": 3,
      "id": "84953a96",
      "metadata": {},
      "outputs": [
        {
          "name": "stdout",
          "output_type": "stream",
          "text": [
            "Max 220 p1 + 240 p2 + 360 p3\n",
            "Subject to\n",
            " "
          ]
        },
        {
          "name": "stdout",
          "output_type": "stream",
          "text": [
            "spruceMin : 0.5 p1 + p2 + 1.5 p3 ≥ 0\n",
            " firMin : 1.5 p1 + 2 p2 + 2 p3 ≥ 0\n",
            " spruceMax : 0.5 p1 + p2 + 1.5 p3 ≤ 320\n",
            " firMax : 1.5 p1 + 2 p2 + 2 p3 ≤ 720\n",
            " p1 ≥ 0\n",
            " p2 ≥ 0\n",
            " p3 ≥ 0\n"
          ]
        }
      ],
      "source": [
        "s=.12*1000;\n",
        "f=.08*1000;\n",
        "model_22 = Model(HiGHS.Optimizer)\n",
        "@variable(model_22, 0 <= p1)\n",
        "@variable(model_22, 0 <= p2)\n",
        "@variable(model_22, 0 <= p3)\n",
        "@objective(model_22, Max, 400p1+520p2+700p3-((0.5s+1.5f)p1+(s+2f)p2+(1.5s+2f)p3))\n",
        "@constraint(model_22, spruceMin, 0.5*p1+p2+1.5*p3 >= 0)\n",
        "@constraint(model_22, spruceMax, 0.5*p1+p2+1.5*p3 <= 320)\n",
        "@constraint(model_22, firMin, 1.5*p1+2*p2+2*p3 >= 0)\n",
        "@constraint(model_22, firMax, 1.5*p1+2*p2+2*p3 <= 720)\n",
        "print(model_22)"
      ]
    },
    {
      "cell_type": "markdown",
      "id": "de5ff570-e9ee-40c2-8784-2633d1a4dc0c",
      "metadata": {},
      "source": [
        "#### Problem 2.2 (1 points)\n",
        "\n",
        "Find the solution to your program and find the optimal values of the\n",
        "decision variables. Once you’ve defined your model, you can find the\n",
        "solution with \\`optimize!():"
      ]
    },
    {
      "cell_type": "code",
      "execution_count": 4,
      "id": "5ccbe21b",
      "metadata": {},
      "outputs": [
        {
          "name": "stdout",
          "output_type": "stream",
          "text": [
            "Running HiGHS 1.5.3 [date: 1970-01-01, git hash: 45a127b78]\n",
            "Copyright (c) 2023 HiGHS under MIT licence terms\n",
            "Presolving model\n",
            "2 rows, 3 cols, 6 nonzeros\n",
            "2 rows, 3 cols, 6 nonzeros\n",
            "Presolve : Reductions: rows 2(-2); columns 3(-0); elements 6(-6)\n",
            "Solving the presolved LP\n",
            "Using EKK dual simplex solver - serial\n",
            "  Iteration        Objective     Infeasibilities num(sum)\n",
            "          0    -8.1999929744e+02 Ph1: 2(8.5); Du: 3(819.999) 0s\n",
            "          2    -1.1200000000e+05 Pr: 0(0) 0s\n",
            "Solving the original LP from the solution after postsolve\n",
            "Model   status      : Optimal\n",
            "Simplex   iterations: 2\n",
            "Objective value     :  1.1200000000e+05\n",
            "HiGHS run time      :          0.00\n"
          ]
        }
      ],
      "source": [
        "\n",
        "optimize!(model_22)"
      ]
    },
    {
      "cell_type": "code",
      "execution_count": 5,
      "id": "36b7a4d7",
      "metadata": {},
      "outputs": [
        {
          "name": "stdout",
          "output_type": "stream",
          "text": [
            "p1 = 352.00000000000006, p2 = 0.0, p3 = 95.99999999999999"
          ]
        }
      ],
      "source": [
        "print(\"p1 = \", value.(p1), \", p2 = \", value.(p2), \", p3 = \", value.(p3))\n"
      ]
    },
    {
      "cell_type": "markdown",
      "id": "7e141d56-9965-499c-a1d6-9fbc565f3abc",
      "metadata": {},
      "source": [
        "#### Problem 2.3 (1 point)\n",
        "\n",
        "How would your profit change if you could buy 1,000 additional bf of\n",
        "spruce? You can answer this by getting the shadow price of a particular\n",
        "variable with:"
      ]
    },
    {
      "cell_type": "code",
      "execution_count": 6,
      "id": "c969ed7f",
      "metadata": {},
      "outputs": [
        {
          "name": "stdout",
          "output_type": "stream",
          "text": [
            "the profit would increase by $80.0"
          ]
        }
      ],
      "source": [
        "print(\"the profit would increase by \\$\", shadow_price(spruceMax))"
      ]
    },
    {
      "cell_type": "markdown",
      "id": "0f60ecb1-3610-434e-af1f-02b19850827b",
      "metadata": {},
      "source": [
        "#### Problem 2.4 (1 point)\n",
        "\n",
        "Would you prefer to have 2,000 additional bf of spruce or 1,000\n",
        "additional bf of fir?"
      ]
    },
    {
      "cell_type": "code",
      "execution_count": 7,
      "id": "e9700ce9",
      "metadata": {},
      "outputs": [
        {
          "data": {
            "text/plain": [
              "120.0"
            ]
          },
          "metadata": {},
          "output_type": "display_data"
        }
      ],
      "source": [
        "shadow_price(firMax)"
      ]
    },
    {
      "cell_type": "markdown",
      "id": "3dc8b21a",
      "metadata": {},
      "source": [
        "I would rather have the additional 2000 bf of spruce, because the shadow price of the maximum spruce constraint is greater than half that of the maximum fir constraint"
      ]
    },
    {
      "cell_type": "markdown",
      "id": "3931edc3-ebed-40fa-abc1-8611323d2dac",
      "metadata": {},
      "source": [
        "## References\n",
        "\n",
        "Put any consulted sources here, including classmates you worked with/who\n",
        "helped you."
      ]
    }
  ],
  "metadata": {
    "kernelspec": {
      "display_name": "Julia 1.9.2",
      "language": "julia",
      "name": "julia-1.9"
    },
    "language_info": {
      "file_extension": ".jl",
      "mimetype": "application/julia",
      "name": "julia",
      "version": "1.9.2"
    }
  },
  "nbformat": 4,
  "nbformat_minor": 5
}
